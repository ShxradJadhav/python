{
 "cells": [
  {
   "cell_type": "markdown",
   "id": "e311feae-24c7-4bb0-8c27-3aaf2203aedd",
   "metadata": {},
   "source": [
    "1. Check whether a given number n is both a multiple of 3 and 5, but not divisible by 7."
   ]
  },
  {
   "cell_type": "code",
   "execution_count": 6,
   "id": "2e833b1f-5390-403c-a595-230381549245",
   "metadata": {},
   "outputs": [
    {
     "name": "stdin",
     "output_type": "stream",
     "text": [
      "Enter a number:  15\n"
     ]
    },
    {
     "name": "stdout",
     "output_type": "stream",
     "text": [
      "the number meet the condition\n"
     ]
    }
   ],
   "source": [
    "n = int(input(\"Enter a number: \"))\n",
    "\n",
    "if n % 3 == 0 and n % 5 == 0 and n % 7 !=0:\n",
    "    print(\"the number meet the condition\")\n",
    "else:\n",
    "    print(\"condition not meet\")\n"
   ]
  },
  {
   "cell_type": "markdown",
   "id": "06563e4b-b8bf-4a0f-87c8-c4e81e2bd365",
   "metadata": {},
   "source": [
    "2. A store has a discount policy:\n",
    "\n",
    "If the bill > ₹5000, give 20% discount\n",
    "If bill is between ₹2500 and ₹5000, give 10% discount\n",
    "If bill is below ₹2500 but above ₹1000, give 5% discount\n",
    "No discount otherwise\n",
    "Write a program to compute the final payable amount."
   ]
  },
  {
   "cell_type": "code",
   "execution_count": 10,
   "id": "dc7b8ea2-03d3-46b1-8c26-6ed0a8f9905c",
   "metadata": {},
   "outputs": [
    {
     "name": "stdin",
     "output_type": "stream",
     "text": [
      "Enter the bill amount: 7000\n"
     ]
    },
    {
     "name": "stdout",
     "output_type": "stream",
     "text": [
      "final amount fter discount is  5600.0\n"
     ]
    }
   ],
   "source": [
    "bill = int(input(\"Enter the bill amount:\"))\n",
    "\n",
    "if bill > 5000:\n",
    "    discount = 0.20\n",
    "elif 2500 < bill <= 5000:\n",
    "    discount = 0.10\n",
    "elif 1000 < bill <=2500:\n",
    "    discount = 0.05\n",
    "else:\n",
    "    discount = 0.0\n",
    "\n",
    "final_amount = bill * (1-discount)\n",
    "\n",
    "print(\"final amount fter discount is \",final_amount)"
   ]
  },
  {
   "cell_type": "markdown",
   "id": "4318dc0b-3057-489c-99f2-89bacac8b6f5",
   "metadata": {},
   "source": [
    "3. Print all prime numbers between 50 and 100."
   ]
  },
  {
   "cell_type": "code",
   "execution_count": 14,
   "id": "10242def-8944-4c51-99ff-0e7bb3641de4",
   "metadata": {},
   "outputs": [
    {
     "name": "stdout",
     "output_type": "stream",
     "text": [
      "53 59 61 67 71 73 79 83 89 97 "
     ]
    }
   ],
   "source": [
    "for num in range(50, 101):\n",
    "    for i in range(2, int(num**0.5) + 1):\n",
    "        if num % i == 0:\n",
    "            break\n",
    "    else:                \n",
    "        print(num, end=\" \")\n"
   ]
  },
  {
   "cell_type": "markdown",
   "id": "7609cc33-2c88-461b-8e06-5fb636b6bf98",
   "metadata": {},
   "source": [
    "\n",
    "4. A student is eligible for a certificate only if:\n",
    "\n",
    "Attendance is above 75%\n",
    "Internal score > 35\n",
    "Has not failed in any subject\n",
    "Write a decision-making program for the same."
   ]
  },
  {
   "cell_type": "code",
   "execution_count": 15,
   "id": "36c3a495-a60c-47ba-a7bc-50071faded50",
   "metadata": {},
   "outputs": [
    {
     "name": "stdin",
     "output_type": "stream",
     "text": [
      "Enter attendance percentage:  88\n",
      "Enter internal marks:  88\n",
      "Enter number of failed subjects:  0\n"
     ]
    },
    {
     "name": "stdout",
     "output_type": "stream",
     "text": [
      "Eligible for Certificate\n"
     ]
    }
   ],
   "source": [
    "attendance = float(input(\"Enter attendance percentage: \"))\n",
    "internal = float(input(\"Enter internal marks: \"))\n",
    "fail = int(input(\"Enter number of failed subjects: \"))\n",
    "\n",
    "if attendance > 75 and internal > 35 and fail == 0:\n",
    "    print(\"Eligible for Certificate\")\n",
    "else:\n",
    "    print(\"Not Eligible\")\n"
   ]
  },
  {
   "cell_type": "markdown",
   "id": "5ff17234-086d-4e02-baee-0fc4364a9bba",
   "metadata": {},
   "source": [
    "5. Create a mini \"Mood Bot\" that accepts a user's mood input (Happy, Sad, Angry, Excited) and responds with a suitable message.\n"
   ]
  },
  {
   "cell_type": "code",
   "execution_count": 16,
   "id": "4d829446-f9c5-4b91-b593-326a8d5a06fa",
   "metadata": {},
   "outputs": [
    {
     "name": "stdin",
     "output_type": "stream",
     "text": [
      "How are you feeling? (Happy, Sad, Angry, Excited):  OK\n"
     ]
    },
    {
     "name": "stdout",
     "output_type": "stream",
     "text": [
      "choose crrect mood\n"
     ]
    }
   ],
   "source": [
    "mood = str(input(\"How are you feeling? (Happy, Sad, Angry, Excited): \")).lower()\n",
    "\n",
    "if mood == \"happy\":\n",
    "    print(\"good Keep smiling \")\n",
    "elif mood == \"sad\":\n",
    "    print(\"dont sad\")\n",
    "elif mood == \"angry\":\n",
    "    print(\"relax buddy\")\n",
    "elif mood == \"excited\":\n",
    "    print(\"Woohoo\")\n",
    "else:\n",
    "    print(\"choose crrect mood\")\n"
   ]
  },
  {
   "cell_type": "markdown",
   "id": "1e0eb3ba-f4bd-411c-b68f-145b839bb975",
   "metadata": {},
   "source": [
    "6. Given a list of numbers, check if any number is divisible by both 4 and 6 using a loop and logical operators.\n"
   ]
  },
  {
   "cell_type": "code",
   "execution_count": 1,
   "id": "382482e2-a154-44fd-ab0e-4d88f6401d21",
   "metadata": {},
   "outputs": [
    {
     "name": "stdin",
     "output_type": "stream",
     "text": [
      "Enter a number:  1\n"
     ]
    },
    {
     "ename": "TypeError",
     "evalue": "'int' object is not iterable",
     "output_type": "error",
     "traceback": [
      "\u001b[1;31m---------------------------------------------------------------------------\u001b[0m",
      "\u001b[1;31mTypeError\u001b[0m                                 Traceback (most recent call last)",
      "Cell \u001b[1;32mIn[1], line 3\u001b[0m\n\u001b[0;32m      1\u001b[0m num \u001b[38;5;241m=\u001b[39m \u001b[38;5;28mint\u001b[39m(\u001b[38;5;28minput\u001b[39m(\u001b[38;5;124m\"\u001b[39m\u001b[38;5;124mEnter a number: \u001b[39m\u001b[38;5;124m\"\u001b[39m))\n\u001b[1;32m----> 3\u001b[0m \u001b[38;5;28;01mfor\u001b[39;00m i \u001b[38;5;129;01min\u001b[39;00m num:\n\u001b[0;32m      4\u001b[0m     \u001b[38;5;28;01mif\u001b[39;00m n \u001b[38;5;241m%\u001b[39m \u001b[38;5;241m4\u001b[39m\u001b[38;5;241m==\u001b[39m\u001b[38;5;241m0\u001b[39m \u001b[38;5;129;01mand\u001b[39;00m n \u001b[38;5;241m%\u001b[39m \u001b[38;5;241m6\u001b[39m\u001b[38;5;241m==\u001b[39m\u001b[38;5;241m0\u001b[39m:\n\u001b[0;32m      5\u001b[0m         \u001b[38;5;28mprint\u001b[39m(\u001b[38;5;124m\"\u001b[39m\u001b[38;5;124myes\u001b[39m\u001b[38;5;124m\"\u001b[39m)\n",
      "\u001b[1;31mTypeError\u001b[0m: 'int' object is not iterable"
     ]
    }
   ],
   "source": [
    "num = int(input(\"Enter a number: \"))\n",
    "\n",
    "for i in num:\n",
    "    if n % 4==0 and n % 6==0:\n",
    "        print(\"yes\")\n",
    "else:\n",
    "        print(\"no\")"
   ]
  },
  {
   "cell_type": "markdown",
   "id": "1edc3108-7e04-4984-89cf-4a7d990fc543",
   "metadata": {},
   "source": [
    "7. Build a BMI calculator that takes weight and height, computes BMI, and classifies as:\n",
    "\n",
    "Underweight\n",
    "Normal\n",
    "Overweight\n",
    "Obese\n"
   ]
  },
  {
   "cell_type": "code",
   "execution_count": 23,
   "id": "ef103556-7f2d-4d66-a0b7-50c8aa94abe8",
   "metadata": {},
   "outputs": [
    {
     "name": "stdin",
     "output_type": "stream",
     "text": [
      "Enter your weight :  65\n",
      "Enter your height :  6\n"
     ]
    },
    {
     "name": "stdout",
     "output_type": "stream",
     "text": [
      "BMI is:  1.8055555555555556\n",
      "category underweight\n"
     ]
    }
   ],
   "source": [
    "weight = float(input(\"Enter your weight : \"))\n",
    "height = float(input(\"Enter your height : \"))\n",
    "\n",
    "bmi = weight / height**2\n",
    "\n",
    "print(\"BMI is: \",bmi)\n",
    "\n",
    "if bmi < 18.5:\n",
    "    cat=\"underweight\"\n",
    "elif bmi < 25:\n",
    "    cat=\"normal\"\n",
    "elif bmi <30:\n",
    "    cat = \"ovverweight\"\n",
    "else:\n",
    "    cat=\"obies\"\n",
    "\n",
    "print(\"category\",cat)\n"
   ]
  },
  {
   "cell_type": "markdown",
   "id": "4724db58-f4db-4edf-8073-fa5929da9d04",
   "metadata": {},
   "source": [
    "\n",
    "8. Build a mini ATM simulation:\n",
    "\n",
    "\n",
    "\n",
    "Start with a balance of ₹10,000\n",
    "Let user withdraw, deposit, or check balance\n",
    "Use loops and conditionals to simulate multiple operations\n"
   ]
  },
  {
   "cell_type": "code",
   "execution_count": 24,
   "id": "5e31d2a7-fb2d-4925-93e0-01293525ec78",
   "metadata": {},
   "outputs": [
    {
     "name": "stdout",
     "output_type": "stream",
     "text": [
      "\n",
      "1‑Withdraw  2‑Deposit  3‑Check Balance  4‑Exit\n"
     ]
    },
    {
     "name": "stdin",
     "output_type": "stream",
     "text": [
      "Choose an option:  1\n",
      "Amount to withdraw:  10\n"
     ]
    },
    {
     "name": "stdout",
     "output_type": "stream",
     "text": [
      "Cash dispensed.\n",
      "\n",
      "1‑Withdraw  2‑Deposit  3‑Check Balance  4‑Exit\n"
     ]
    },
    {
     "name": "stdin",
     "output_type": "stream",
     "text": [
      "Choose an option:  3\n"
     ]
    },
    {
     "name": "stdout",
     "output_type": "stream",
     "text": [
      "Current balance: ₹9990.0\n",
      "\n",
      "1‑Withdraw  2‑Deposit  3‑Check Balance  4‑Exit\n"
     ]
    },
    {
     "name": "stdin",
     "output_type": "stream",
     "text": [
      "Choose an option:  2\n",
      "Amount to deposit:  10\n"
     ]
    },
    {
     "name": "stdout",
     "output_type": "stream",
     "text": [
      "Amount deposited.\n",
      "\n",
      "1‑Withdraw  2‑Deposit  3‑Check Balance  4‑Exit\n"
     ]
    },
    {
     "name": "stdin",
     "output_type": "stream",
     "text": [
      "Choose an option:  3\n"
     ]
    },
    {
     "name": "stdout",
     "output_type": "stream",
     "text": [
      "Current balance: ₹10000.0\n",
      "\n",
      "1‑Withdraw  2‑Deposit  3‑Check Balance  4‑Exit\n"
     ]
    },
    {
     "name": "stdin",
     "output_type": "stream",
     "text": [
      "Choose an option:  2\n",
      "Amount to deposit:  -111\n"
     ]
    },
    {
     "name": "stdout",
     "output_type": "stream",
     "text": [
      "Amount deposited.\n",
      "\n",
      "1‑Withdraw  2‑Deposit  3‑Check Balance  4‑Exit\n"
     ]
    },
    {
     "name": "stdin",
     "output_type": "stream",
     "text": [
      "Choose an option:  3\n"
     ]
    },
    {
     "name": "stdout",
     "output_type": "stream",
     "text": [
      "Current balance: ₹9889.0\n",
      "\n",
      "1‑Withdraw  2‑Deposit  3‑Check Balance  4‑Exit\n"
     ]
    },
    {
     "name": "stdin",
     "output_type": "stream",
     "text": [
      "Choose an option:  4\n"
     ]
    },
    {
     "name": "stdout",
     "output_type": "stream",
     "text": [
      "Thank you for banking with us!\n"
     ]
    }
   ],
   "source": [
    "balance = 10000\n",
    "\n",
    "while True:\n",
    "    print(\"\\n1‑Withdraw  2‑Deposit  3‑Check Balance  4‑Exit\")\n",
    "    choice = input(\"Choose an option: \")\n",
    "\n",
    "    if choice == '1':\n",
    "        amt = float(input(\"Amount to withdraw: \"))\n",
    "        if amt <= balance:\n",
    "            balance -= amt\n",
    "            print(\"Cash dispensed.\")\n",
    "        else:\n",
    "            print(\"Insufficient funds.\")\n",
    "    elif choice == '2':\n",
    "        amt = float(input(\"Amount to deposit: \"))\n",
    "        balance += amt\n",
    "        print(\"Amount deposited.\")\n",
    "    elif choice == '3':\n",
    "        print(f\"Current balance: ₹{balance}\")\n",
    "    elif choice == '4':\n",
    "        print(\"Thank you for banking with us!\")\n",
    "        break\n",
    "    else:\n",
    "        print(\"Invalid option.\")\n"
   ]
  },
  {
   "cell_type": "markdown",
   "id": "2740f5f1-062d-4c6b-996e-4ed76fb05d4e",
   "metadata": {},
   "source": [
    "9. Write a program to check whether a number is Armstrong (e.g., 153 → 1³ + 5³ + 3³ = 153).\n"
   ]
  },
  {
   "cell_type": "code",
   "execution_count": null,
   "id": "a99e3939-7a75-4b88-aac7-edbb8915fa76",
   "metadata": {},
   "outputs": [],
   "source": []
  },
  {
   "cell_type": "markdown",
   "id": "de95956f-7960-4e72-b43f-a778983fd650",
   "metadata": {},
   "source": [
    "10. Write a program to check if a number is Kaprekar (e.g., 45² = 2025 → 20 + 25 = 45).\n"
   ]
  },
  {
   "cell_type": "code",
   "execution_count": null,
   "id": "eb141770-5b2f-4d2e-b69e-1cee843f5e41",
   "metadata": {},
   "outputs": [],
   "source": []
  },
  {
   "cell_type": "markdown",
   "id": "eeafa75b-7a89-4484-82c2-651f330ec6d8",
   "metadata": {},
   "source": [
    "11. Simulate a rock-paper-scissors game for 2 users using conditionals and loops.\n"
   ]
  },
  {
   "cell_type": "code",
   "execution_count": null,
   "id": "8aecd6a0-459b-4d3a-b205-27a1e6241467",
   "metadata": {},
   "outputs": [
    {
     "name": "stdin",
     "output_type": "stream",
     "text": [
      "Player 1 choice:  rock\n",
      "Player 2 choice:  paper\n"
     ]
    },
    {
     "name": "stdout",
     "output_type": "stream",
     "text": [
      "Player 2 wins!\n"
     ]
    },
    {
     "name": "stdin",
     "output_type": "stream",
     "text": [
      "Player 1 choice:  rock\n",
      "Player 2 choice:  paper\n"
     ]
    },
    {
     "name": "stdout",
     "output_type": "stream",
     "text": [
      "Player 2 wins!\n"
     ]
    },
    {
     "name": "stdin",
     "output_type": "stream",
     "text": [
      "Player 1 choice:  rock paper\n"
     ]
    }
   ],
   "source": [
    "choices = (\"rock\", \"paper\", \"scissors\")\n",
    "\n",
    "while True:\n",
    "    p1 = input(\"Player 1 : \").lower()\n",
    "    p2 = input(\"Player 2 : \").lower()\n",
    "\n",
    "    if p1 not in choices or p2 not in choices:\n",
    "        print(\"Invalid input, try again.\")\n",
    "        continue\n",
    "\n",
    "    if p1 == p2:\n",
    "        result = \"Draw!\"\n",
    "    elif (p1, p2) in ((\"rock\",\"scissors\"),(\"scissors\",\"paper\"),(\"paper\",\"rock\")):\n",
    "        result = \"Player 1 wins!\"\n",
    "    else:\n",
    "        result = \"Player 2 wins!\"\n",
    "    print(result)\n",
    "\n",
    "\n"
   ]
  },
  {
   "cell_type": "markdown",
   "id": "2379a09f-aca7-49ee-af06-b34e76fb038e",
   "metadata": {},
   "source": [
    "12. Input two lists and compare whether their set of elements (regardless of order and duplicates) are the same using operators.\n"
   ]
  },
  {
   "cell_type": "code",
   "execution_count": 30,
   "id": "6bf067ec-5d22-4672-a812-3aded27a1c62",
   "metadata": {},
   "outputs": [
    {
     "name": "stdin",
     "output_type": "stream",
     "text": [
      "List 1 elements:  12\n",
      "List 2 elements:  12\n"
     ]
    },
    {
     "name": "stdout",
     "output_type": "stream",
     "text": [
      "Both lists contain the same unique elements.\n"
     ]
    }
   ],
   "source": [
    "list1 = input(\"List 1 elements: \").split()\n",
    "list2 = input(\"List 2 elements: \").split()\n",
    "\n",
    "same = set(list1) == set(list2)\n",
    "print(\"Both lists contain the same unique elements.\" if same else \"Lists differ.\")\n"
   ]
  },
  {
   "cell_type": "markdown",
   "id": "360c3562-b15e-4444-8be8-af7ee140d9d3",
   "metadata": {},
   "source": [
    "13. Create a step-wise interest calculator using a loop:\n",
    "\n",
    "₹1000 initial amount\n",
    "10% interest per year\n",
    "Until it doubles → print value per year\n"
   ]
  },
  {
   "cell_type": "markdown",
   "id": "f2df85c0-35d9-479f-8d61-aaea1fc6cf64",
   "metadata": {},
   "source": [
    "amount = 1000\n",
    "year = 0\n",
    "while amount < 2000:\n",
    "    year += 1\n",
    "    amount *= 1.10   \n",
    "    print(f\"Year {year}: ₹{amount:.2f}\")\n"
   ]
  },
  {
   "cell_type": "markdown",
   "id": "e79da5e9-edc7-44dd-9923-9a4a8840b5c4",
   "metadata": {},
   "source": [
    "14. Ask the user to guess a 4-digit PIN. Allow 3 tries.\n",
    "\n",
    "If correct: print “Unlocked”\n",
    "If wrong all attempts: print “Access Denied”\n"
   ]
  },
  {
   "cell_type": "code",
   "execution_count": 2,
   "id": "79689a61-d1ce-4ab9-a93b-ab0c236127a7",
   "metadata": {},
   "outputs": [
    {
     "name": "stdin",
     "output_type": "stream",
     "text": [
      "Attempt 1/3 – Enter 4‑digit PIN:  123\n",
      "Attempt 2/3 – Enter 4‑digit PIN:  4321\n"
     ]
    },
    {
     "name": "stdout",
     "output_type": "stream",
     "text": [
      "Unlocked \n"
     ]
    }
   ],
   "source": [
    "SECRET_PIN = \"4321\"\n",
    "for attempt in range(1, 4):\n",
    "    guess = input(f\"Attempt {attempt}/3 – Enter 4‑digit PIN: \")\n",
    "    if guess == SECRET_PIN:\n",
    "        print(\"Unlocked \")\n",
    "        break\n",
    "else:\n",
    "    print(\"Access Denied \")\n"
   ]
  },
  {
   "cell_type": "markdown",
   "id": "df8e55a2-210a-49ac-b269-70880344ce4f",
   "metadata": {},
   "source": [
    "15. Take 10 numbers from user. Show:\n",
    "\n",
    "Sum of only odd numbers.\n",
    "Product of even numbers."
   ]
  },
  {
   "cell_type": "code",
   "execution_count": 34,
   "id": "feb6e501-1784-42e7-9d26-60d85dba2ac5",
   "metadata": {},
   "outputs": [
    {
     "name": "stdin",
     "output_type": "stream",
     "text": [
      "Enter number:  1\n",
      "Enter number:  2\n",
      "Enter number:  3\n",
      "Enter number:  4\n",
      "Enter number:  5\n",
      "Enter number:  6\n",
      "Enter number:  7\n",
      "Enter number:  8\n",
      "Enter number:  9\n",
      "Enter number:  10\n"
     ]
    },
    {
     "name": "stdout",
     "output_type": "stream",
     "text": [
      "Sum of odd numbers: 25\n",
      "Product of even numbers: 3840\n"
     ]
    }
   ],
   "source": [
    "odd_sum = 0\n",
    "even_product = 1\n",
    "for _ in range(10):\n",
    "    n = int(input(\"Enter number: \"))\n",
    "    if n % 2:\n",
    "        odd_sum += n\n",
    "    else:\n",
    "        even_product *= n\n",
    "\n",
    "print(\"Sum of odd numbers:\", odd_sum)\n",
    "print(\"Product of even numbers:\", even_product)\n"
   ]
  },
  {
   "cell_type": "code",
   "execution_count": null,
   "id": "e6fedc6b-b85e-4068-b9db-a8dd271b7d3d",
   "metadata": {},
   "outputs": [],
   "source": []
  },
  {
   "cell_type": "code",
   "execution_count": null,
   "id": "e80777ef-8458-4f25-84cd-b6ea46cacf5d",
   "metadata": {},
   "outputs": [],
   "source": []
  },
  {
   "cell_type": "code",
   "execution_count": null,
   "id": "9a8974f0-05f9-4d37-9d5a-58af01b1dd74",
   "metadata": {},
   "outputs": [],
   "source": []
  },
  {
   "cell_type": "markdown",
   "id": "eef225ac-a4e1-4eb4-887c-023315c41bae",
   "metadata": {},
   "source": [
    "1. Convert a list of strings to uppercase \n",
    "2.Given a list of strings, filter out strings that do not contain the letter \"a\"\n",
    "3.Compute the sum of squares of numbers in a list using map and reduce.\n",
    "4.Given a string, print the first, third, and last characters using indexing.Take string from the user.\n",
    "5.Check if the second character of a string is a vowel.\n",
    "6.Reverse a string using slicing.Take string from the user."
   ]
  },
  {
   "cell_type": "code",
   "execution_count": null,
   "id": "06b48942-61d3-45f9-a95a-978a53c76c13",
   "metadata": {},
   "outputs": [],
   "source": [
    "1. Convert a list of strings to uppercase "
   ]
  },
  {
   "cell_type": "code",
   "execution_count": 35,
   "id": "86ed06d4-8d66-4e7a-938e-51c6328d14ba",
   "metadata": {},
   "outputs": [
    {
     "name": "stdout",
     "output_type": "stream",
     "text": [
      "['APPLE', 'BANANA', 'CHERRY']\n"
     ]
    }
   ],
   "source": [
    "words = [\"apple\", \"banana\", \"cherry\"]\n",
    "upper_words = list(map(str.upper, words))\n",
    "print(upper_words)  \n"
   ]
  },
  {
   "cell_type": "code",
   "execution_count": null,
   "id": "4c073165-32bc-4d56-a79a-a5944f2e826f",
   "metadata": {},
   "outputs": [],
   "source": [
    "2.Given a list of strings, filter out strings that do not contain the letter \"a\"\n"
   ]
  },
  {
   "cell_type": "code",
   "execution_count": 3,
   "id": "8e08b305-9806-412c-afac-adbe1fb81bf2",
   "metadata": {},
   "outputs": [
    {
     "ename": "SyntaxError",
     "evalue": "invalid syntax (3016369290.py, line 2)",
     "output_type": "error",
     "traceback": [
      "\u001b[1;36m  Cell \u001b[1;32mIn[3], line 2\u001b[1;36m\u001b[0m\n\u001b[1;33m    filtered = list(filter(lambda: 'a' in , words))\u001b[0m\n\u001b[1;37m                                          ^\u001b[0m\n\u001b[1;31mSyntaxError\u001b[0m\u001b[1;31m:\u001b[0m invalid syntax\n"
     ]
    }
   ],
   "source": [
    "words = [\"apple\", \"dog\", \"cat\", \"sky\"]\n",
    "filtered = list(filter(lambda: 'a' in , words))\n",
    "print(filtered) \n"
   ]
  },
  {
   "cell_type": "code",
   "execution_count": null,
   "id": "54eadfea-19f0-418d-ace0-53b593e863f0",
   "metadata": {},
   "outputs": [],
   "source": [
    "3.Compute the sum of squares of numbers in a list using map and reduce.\n"
   ]
  },
  {
   "cell_type": "code",
   "execution_count": 4,
   "id": "71be5f76-f8e1-4b70-a96e-e213cebb78c4",
   "metadata": {},
   "outputs": [
    {
     "ename": "SyntaxError",
     "evalue": "invalid syntax (862512195.py, line 5)",
     "output_type": "error",
     "traceback": [
      "\u001b[1;36m  Cell \u001b[1;32mIn[4], line 5\u001b[1;36m\u001b[0m\n\u001b[1;33m    sum_of_squares =\u001b[0m\n\u001b[1;37m                     ^\u001b[0m\n\u001b[1;31mSyntaxError\u001b[0m\u001b[1;31m:\u001b[0m invalid syntax\n"
     ]
    }
   ],
   "source": [
    "from functools import reduce\n",
    "\n",
    "nums = [1, 2, 3, 4]\n",
    "squares = map(lambda x: x**2, nums)\n",
    "sum_of_squares = \n",
    "print(sum_of_squares) \n"
   ]
  },
  {
   "cell_type": "code",
   "execution_count": null,
   "id": "8d7a8382-d19d-44fe-8f6f-5313bbe1283b",
   "metadata": {},
   "outputs": [],
   "source": [
    "4.Given a string, print the first, third, and last characters using indexing.Take string from the user.\n"
   ]
  },
  {
   "cell_type": "code",
   "execution_count": 40,
   "id": "55045cdd-ad53-4f6c-97f9-ba62f8a91b28",
   "metadata": {},
   "outputs": [
    {
     "name": "stdin",
     "output_type": "stream",
     "text": [
      "Enter a string:  1312435\n"
     ]
    },
    {
     "name": "stdout",
     "output_type": "stream",
     "text": [
      "First: 1\n",
      "Third: 1\n",
      "Last: 5\n"
     ]
    }
   ],
   "source": [
    "s = input(\"Enter a string: \")\n",
    "if len(s) >= 3:\n",
    "    print(\"First:\", s[0])\n",
    "    print(\"Third:\", s[2])\n",
    "    print(\"Last:\", s[-1])\n",
    "else:\n",
    "    print(\"The string is too short.\")\n"
   ]
  },
  {
   "cell_type": "code",
   "execution_count": null,
   "id": "cacf3665-d451-4b48-8db6-fb42331c4160",
   "metadata": {},
   "outputs": [],
   "source": [
    "5.Check if the second character of a string is a vowel.\n"
   ]
  },
  {
   "cell_type": "code",
   "execution_count": 5,
   "id": "0f6d0ce6-cd7d-492b-b53b-5a9afc9f54a0",
   "metadata": {},
   "outputs": [
    {
     "ename": "_IncompleteInputError",
     "evalue": "incomplete input (1900032257.py, line 3)",
     "output_type": "error",
     "traceback": [
      "\u001b[1;36m  Cell \u001b[1;32mIn[5], line 3\u001b[1;36m\u001b[0m\n\u001b[1;33m    \u001b[0m\n\u001b[1;37m    ^\u001b[0m\n\u001b[1;31m_IncompleteInputError\u001b[0m\u001b[1;31m:\u001b[0m incomplete input\n"
     ]
    }
   ],
   "source": [
    "s = input(\"Enter a string: \")\n",
    "if len(s) >= 2 in \"aeiou\":\n",
    "    \n"
   ]
  },
  {
   "cell_type": "code",
   "execution_count": null,
   "id": "af3e1d19-4ccb-4e9b-9163-1649cb2a1634",
   "metadata": {},
   "outputs": [],
   "source": [
    "6.Reverse a string using slicing.Take string from the user."
   ]
  },
  {
   "cell_type": "code",
   "execution_count": 43,
   "id": "1054a815-cc18-4c0a-928b-64d8edf6f1ef",
   "metadata": {},
   "outputs": [
    {
     "name": "stdin",
     "output_type": "stream",
     "text": [
      "Enter a string:  124\n"
     ]
    },
    {
     "name": "stdout",
     "output_type": "stream",
     "text": [
      "Reversed: 421\n"
     ]
    }
   ],
   "source": [
    "s = input(\"Enter a string: \")\n",
    "print(\"Reversed:\", s[::-1])\n"
   ]
  },
  {
   "cell_type": "code",
   "execution_count": null,
   "id": "5912d836-5bee-404e-96a7-025b9fbb8686",
   "metadata": {},
   "outputs": [],
   "source": []
  },
  {
   "cell_type": "code",
   "execution_count": null,
   "id": "c5b2ff59-5bd2-48e1-8e8b-ef266b0d38d2",
   "metadata": {},
   "outputs": [],
   "source": []
  }
 ],
 "metadata": {
  "kernelspec": {
   "display_name": "Python [conda env:base] *",
   "language": "python",
   "name": "conda-base-py"
  },
  "language_info": {
   "codemirror_mode": {
    "name": "ipython",
    "version": 3
   },
   "file_extension": ".py",
   "mimetype": "text/x-python",
   "name": "python",
   "nbconvert_exporter": "python",
   "pygments_lexer": "ipython3",
   "version": "3.13.5"
  }
 },
 "nbformat": 4,
 "nbformat_minor": 5
}
